{
 "cells": [
  {
   "cell_type": "code",
   "execution_count": 3,
   "metadata": {},
   "outputs": [],
   "source": [
    "import pandas as pd"
   ]
  },
  {
   "cell_type": "code",
   "execution_count": 2,
   "metadata": {},
   "outputs": [],
   "source": [
    "import os\n",
    "import numpy as np"
   ]
  },
  {
   "cell_type": "code",
   "execution_count": 104,
   "metadata": {},
   "outputs": [
    {
     "name": "stdout",
     "output_type": "stream",
     "text": [
      "['P10', 'P11', 'P12', 'P13', 'P14', 'P15', 'P16', 'P17', 'P18', 'P19', 'P20', 'P21', 'P22', 'P23', 'P24', 'P25', 'P26', 'P27', 'P28', 'P29', 'P30', 'P31', 'P32', 'P33', 'P34', 'P35', 'P36', 'P37', 'P01', 'P02', 'P03', 'P04', 'P06', 'P06', 'P07', 'P08', 'P09']\n"
     ]
    }
   ],
   "source": [
    "train_dir =\"/data/datasets/epic_trimmed_mp4/annotations/train\"\n",
    "val_dir   =\"/data/datasets/epic_trimmed_mp4/annotations/val\"\n",
    "# 원본 어노테이션들 폴더 \n",
    "# P 별로 csv\n"
   ]
  },
  {
   "attachments": {},
   "cell_type": "markdown",
   "metadata": {},
   "source": [
    "# 총 개수 세주는 코드"
   ]
  },
  {
   "cell_type": "code",
   "execution_count": 94,
   "metadata": {},
   "outputs": [
    {
     "name": "stdout",
     "output_type": "stream",
     "text": [
      "P20.csv: 922\n",
      "P17.csv: 89\n",
      "P26.csv: 2390\n",
      "P30.csv: 4497\n",
      "P07.csv: 1585\n",
      "P08.csv: 2024\n",
      "P13.csv: 402\n",
      "P32.csv is not in Train\n",
      "P36.csv is not in Train\n",
      "P33.csv is not in Train\n",
      "P34.csv is not in Train\n",
      "P27.csv: 2094\n",
      "P12.csv: 1442\n",
      "P15.csv: 345\n",
      "P25.csv: 1957\n",
      "P35.csv: 2832\n",
      "P37.csv: 602\n",
      "P29.csv: 989\n",
      "P05.csv: 535\n",
      "P03.csv: 3693\n",
      "P19.csv: 207\n",
      "P24.csv: 1457\n",
      "P22.csv: 9502\n",
      "P18.csv is not in Train\n",
      "P14.csv: 110\n",
      "P01.csv: 5509\n",
      "P31.csv: 438\n",
      "P21.csv: 245\n",
      "P06.csv: 2050\n",
      "P16.csv: 103\n",
      "P02.csv: 6664\n",
      "P09.csv: 435\n",
      "P23.csv: 1431\n",
      "P04.csv: 7535\n",
      "P10.csv: 779\n",
      "P11.csv: 1686\n",
      "P28.csv: 2668\n",
      "67217\n"
     ]
    }
   ],
   "source": [
    "total_clip=0\n",
    "for i in os.listdir(train_dir):\n",
    "    dir=os.path.join(train_dir,i)\n",
    "    try:\n",
    "        csv=pd.read_csv(dir,header=None)\n",
    "        total_clip+=len(csv)\n",
    "        print(f\"{i}: {len(csv)}\")\n",
    "    except:\n",
    "        print(f\"{i} is not in Train\")\n",
    "    \n",
    "print(total_clip)\n",
    "\n"
   ]
  },
  {
   "cell_type": "code",
   "execution_count": 95,
   "metadata": {},
   "outputs": [
    {
     "name": "stdout",
     "output_type": "stream",
     "text": [
      "P20.csv: 222\n",
      "P17.csv: 27\n",
      "P26.csv: 196\n",
      "P30.csv: 607\n",
      "P07.csv: 187\n",
      "P08.csv: 626\n",
      "P13.csv: 107\n",
      "P32.csv: 326\n",
      "P36.csv is not in Val\n",
      "P33.csv is not in Val\n",
      "P34.csv is not in Val\n",
      "P27.csv: 64\n",
      "P12.csv: 137\n",
      "P15.csv: 115\n",
      "P25.csv: 97\n",
      "P35.csv is not in Val\n",
      "P37.csv is not in Val\n",
      "P29.csv: 609\n",
      "P05.csv: 177\n",
      "P03.csv: 320\n",
      "P19.csv: 43\n",
      "P24.csv: 347\n",
      "P22.csv: 1230\n",
      "P18.csv: 739\n",
      "P14.csv: 46\n",
      "P01.csv: 885\n",
      "P31.csv: 97\n",
      "P21.csv: 60\n",
      "P06.csv: 208\n",
      "P16.csv: 57\n",
      "P02.csv: 449\n",
      "P09.csv: 44\n",
      "P23.csv: 104\n",
      "P04.csv: 382\n",
      "P10.csv: 235\n",
      "P11.csv: 523\n",
      "P28.csv: 402\n",
      "9668\n"
     ]
    }
   ],
   "source": [
    "total_clip=0\n",
    "for i in os.listdir(val_dir):\n",
    "    dir=os.path.join(val_dir,i)\n",
    "    try:\n",
    "        csv=pd.read_csv(dir,header=None)\n",
    "        total_clip+=len(csv)\n",
    "        print(f\"{i}: {len(csv)}\")\n",
    "    except:\n",
    "        print(f\"{i} is not in Val\")\n",
    "    \n",
    "print(total_clip)\n"
   ]
  },
  {
   "attachments": {},
   "cell_type": "markdown",
   "metadata": {},
   "source": [
    "# 각 CSV를 합쳐줌"
   ]
  },
  {
   "cell_type": "code",
   "execution_count": 53,
   "metadata": {},
   "outputs": [
    {
     "name": "stdout",
     "output_type": "stream",
     "text": [
      "P32.csv is not in Train\n",
      "P36.csv is not in Train\n",
      "P33.csv is not in Train\n",
      "P34.csv is not in Train\n",
      "P18.csv is not in Train\n",
      "P36.csv is not in Val\n",
      "P33.csv is not in Val\n",
      "P34.csv is not in Val\n",
      "P35.csv is not in Val\n",
      "P37.csv is not in Val\n"
     ]
    }
   ],
   "source": [
    "total=[] #각 P별 csv 들어감.\n",
    "for i in os.listdir(train_dir):\n",
    "    dir=os.path.join(train_dir,i)\n",
    "    try:\n",
    "        csv=pd.read_csv(dir,header=None)\n",
    "        total.append(csv)\n",
    "    except:\n",
    "        print(f\"{i} is not in Train\")\n",
    "\n",
    "train_anno=pd.concat(total)  #Concat으로 각 P별 csv 내용 합침. val도 마찬가지.\n",
    "\n",
    "\n",
    "total=[]\n",
    "for i in os.listdir(val_dir):\n",
    "    dir=os.path.join(val_dir,i)\n",
    "    try:\n",
    "        csv=pd.read_csv(dir,header=None)\n",
    "        total.append(csv)\n",
    "    except:\n",
    "        print(f\"{i} is not in Val\")\n",
    "val_anno=pd.concat(total)\n"
   ]
  },
  {
   "attachments": {},
   "cell_type": "markdown",
   "metadata": {},
   "source": [
    "# 파일을 써준다"
   ]
  },
  {
   "cell_type": "code",
   "execution_count": 61,
   "metadata": {},
   "outputs": [],
   "source": [
    "\n",
    "train_anno.to_csv(os.path.join(train_dir,os.pardir,\"epic100_train.csv\"),header=False,index=False)\n",
    "val_anno.to_csv(os.path.join(val_dir,os.pardir,\"epic100_val.csv\"),header=False,index=False)"
   ]
  },
  {
   "cell_type": "code",
   "execution_count": 107,
   "metadata": {},
   "outputs": [
    {
     "name": "stdout",
     "output_type": "stream",
     "text": [
      "76886\n"
     ]
    }
   ],
   "source": [
    "train=len(os.listdir(\"/data/datasets/Epickitchens100_clips/video\"))\n",
    "print(train)\n",
    "\n"
   ]
  },
  {
   "cell_type": "code",
   "execution_count": 105,
   "metadata": {},
   "outputs": [
    {
     "name": "stdout",
     "output_type": "stream",
     "text": [
      "37\n",
      "P18 is not in Train\n",
      "P32 is not in Train\n",
      "P33 is not in Train\n",
      "P34 is not in Train\n",
      "P36 is not in Train\n"
     ]
    },
    {
     "data": {
      "text/plain": [
       "67217"
      ]
     },
     "execution_count": 105,
     "metadata": {},
     "output_type": "execute_result"
    }
   ],
   "source": [
    "total=[]\n",
    "p=[]\n",
    "for i in range(10,38):\n",
    "    p.append('P'+str(i))\n",
    "p+=['P01','P02','P03','P04','P05','P06','P07','P08','P09',]\n",
    "print(len(p))\n",
    "for i in p:\n",
    "    try:\n",
    "        csv=pd.read_csv(\"/data/datasets/epic_trimmed_mp4/annotations/train/\"+i+\".csv\",header=None)\n",
    "        total.append(csv[0])\n",
    "    except:\n",
    "        print(f\"{i} is not in Train\")\n",
    "total_a=pd.concat(total)\n",
    "len(total_a)"
   ]
  },
  {
   "cell_type": "code",
   "execution_count": 97,
   "metadata": {},
   "outputs": [
    {
     "ename": "NameError",
     "evalue": "name 'scv' is not defined",
     "output_type": "error",
     "traceback": [
      "\u001b[0;31m---------------------------------------------------------------------------\u001b[0m",
      "\u001b[0;31mNameError\u001b[0m                                 Traceback (most recent call last)",
      "\u001b[0;32m/tmp/ipykernel_3034431/625455823.py\u001b[0m in \u001b[0;36m<module>\u001b[0;34m\u001b[0m\n\u001b[0;32m----> 1\u001b[0;31m \u001b[0mscv\u001b[0m\u001b[0;34m\u001b[0m\u001b[0;34m\u001b[0m\u001b[0m\n\u001b[0m",
      "\u001b[0;31mNameError\u001b[0m: name 'scv' is not defined"
     ]
    }
   ],
   "source": []
  },
  {
   "cell_type": "code",
   "execution_count": 103,
   "metadata": {},
   "outputs": [
    {
     "data": {
      "text/plain": [
       "870"
      ]
     },
     "execution_count": 103,
     "metadata": {},
     "output_type": "execute_result"
    }
   ],
   "source": [
    "len(pd.concat([csv,csv]))"
   ]
  },
  {
   "cell_type": "code",
   "execution_count": null,
   "metadata": {},
   "outputs": [],
   "source": []
  }
 ],
 "metadata": {
  "kernelspec": {
   "display_name": "base",
   "language": "python",
   "name": "python3"
  },
  "language_info": {
   "codemirror_mode": {
    "name": "ipython",
    "version": 3
   },
   "file_extension": ".py",
   "mimetype": "text/x-python",
   "name": "python",
   "nbconvert_exporter": "python",
   "pygments_lexer": "ipython3",
   "version": "3.9.13 (main, Aug 25 2022, 23:26:10) \n[GCC 11.2.0]"
  },
  "orig_nbformat": 4,
  "vscode": {
   "interpreter": {
    "hash": "88b6fdd7e4d7d51783f5bfdc2a6abe094e93f668c86fea41a7b71b40e516f543"
   }
  }
 },
 "nbformat": 4,
 "nbformat_minor": 2
}
